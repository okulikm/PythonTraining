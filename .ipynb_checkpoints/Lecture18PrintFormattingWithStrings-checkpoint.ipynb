{
 "cells": [
  {
   "cell_type": "code",
   "execution_count": 2,
   "metadata": {},
   "outputs": [
    {
     "name": "stdout",
     "output_type": "stream",
     "text": [
      "This is a string: inserted string\n"
     ]
    }
   ],
   "source": [
    "print('This is a string: {}'.format('inserted string'))"
   ]
  },
  {
   "cell_type": "code",
   "execution_count": 3,
   "metadata": {},
   "outputs": [
    {
     "name": "stdout",
     "output_type": "stream",
     "text": [
      "The first input=input 1 second input=input 2 third input=input 3\n"
     ]
    }
   ],
   "source": [
    "print('The first input={} second input={} third input={}'.format('input 1','input 2','input 3'))"
   ]
  },
  {
   "cell_type": "code",
   "execution_count": 5,
   "metadata": {},
   "outputs": [
    {
     "name": "stdout",
     "output_type": "stream",
     "text": [
      "The quick, brown, fox\n"
     ]
    }
   ],
   "source": [
    "#Ordering\n",
    "print('The {2}, {1}, {0}'.format('fox', 'brown', 'quick'))"
   ]
  },
  {
   "cell_type": "code",
   "execution_count": 7,
   "metadata": {},
   "outputs": [
    {
     "name": "stdout",
     "output_type": "stream",
     "text": [
      "The quick, brown, fox\n"
     ]
    }
   ],
   "source": [
    "print('The {q}, {b}, {f}'.format(f='fox', b='brown', q='quick'))"
   ]
  },
  {
   "cell_type": "code",
   "execution_count": 8,
   "metadata": {},
   "outputs": [
    {
     "data": {
      "text/plain": [
       "0.1287001287001287"
      ]
     },
     "execution_count": 8,
     "metadata": {},
     "output_type": "execute_result"
    }
   ],
   "source": [
    "result=100/777\n",
    "result"
   ]
  },
  {
   "cell_type": "code",
   "execution_count": 10,
   "metadata": {},
   "outputs": [
    {
     "name": "stdout",
     "output_type": "stream",
     "text": [
      "The result was 0.12870\n"
     ]
    }
   ],
   "source": [
    "#Float formatting \"value:width.precision f}\"\n",
    "print('The result was {r:1.5f}'.format(r=result))"
   ]
  },
  {
   "cell_type": "code",
   "execution_count": 14,
   "metadata": {},
   "outputs": [
    {
     "name": "stdout",
     "output_type": "stream",
     "text": [
      "Hello, my name is Mike\n"
     ]
    }
   ],
   "source": [
    "#F string, new in Python 3.6\n",
    "name='Mike'\n",
    "print(f'Hello, my name is {name}')"
   ]
  },
  {
   "cell_type": "code",
   "execution_count": 15,
   "metadata": {},
   "outputs": [
    {
     "name": "stdout",
     "output_type": "stream",
     "text": [
      "Mike is 99 years old.\n"
     ]
    }
   ],
   "source": [
    "name='Mike'\n",
    "age=99\n",
    "print(f'{name} is {age} years old.')"
   ]
  },
  {
   "cell_type": "code",
   "execution_count": 20,
   "metadata": {},
   "outputs": [
    {
     "name": "stdout",
     "output_type": "stream",
     "text": [
      "Python rules!\n"
     ]
    }
   ],
   "source": [
    "print('{} rules!'.format('Python'))"
   ]
  },
  {
   "cell_type": "code",
   "execution_count": null,
   "metadata": {},
   "outputs": [],
   "source": []
  }
 ],
 "metadata": {
  "kernelspec": {
   "display_name": "Python 3",
   "language": "python",
   "name": "python3"
  },
  "language_info": {
   "codemirror_mode": {
    "name": "ipython",
    "version": 3
   },
   "file_extension": ".py",
   "mimetype": "text/x-python",
   "name": "python",
   "nbconvert_exporter": "python",
   "pygments_lexer": "ipython3",
   "version": "3.7.4"
  }
 },
 "nbformat": 4,
 "nbformat_minor": 2
}
