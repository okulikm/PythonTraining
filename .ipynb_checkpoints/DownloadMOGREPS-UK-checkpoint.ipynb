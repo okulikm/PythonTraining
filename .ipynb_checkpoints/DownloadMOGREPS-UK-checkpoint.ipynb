{
 "cells": [
  {
   "cell_type": "code",
   "execution_count": 2,
   "metadata": {},
   "outputs": [
    {
     "name": "stdout",
     "output_type": "stream",
     "text": [
      "Collecting package metadata (current_repodata.json): done\n",
      "Solving environment: done\n",
      "\n",
      "## Package Plan ##\n",
      "\n",
      "  environment location: /Applications/anaconda3\n",
      "\n",
      "  added / updated specs:\n",
      "    - boto3\n",
      "\n",
      "\n",
      "The following packages will be downloaded:\n",
      "\n",
      "    package                    |            build\n",
      "    ---------------------------|-----------------\n",
      "    boto3-1.10.19              |             py_0          91 KB  anaconda\n",
      "    botocore-1.13.19           |             py_0         3.3 MB  anaconda\n",
      "    ca-certificates-2019.8.28  |                0         133 KB  anaconda\n",
      "    certifi-2019.9.11          |           py37_0         154 KB  anaconda\n",
      "    jmespath-0.9.4             |             py_0          22 KB  anaconda\n",
      "    openssl-1.1.1d             |       h1de35cc_2         3.4 MB  anaconda\n",
      "    s3transfer-0.2.1           |           py37_0          96 KB  anaconda\n",
      "    ------------------------------------------------------------\n",
      "                                           Total:         7.2 MB\n",
      "\n",
      "The following NEW packages will be INSTALLED:\n",
      "\n",
      "  boto3              anaconda/noarch::boto3-1.10.19-py_0\n",
      "  botocore           anaconda/noarch::botocore-1.13.19-py_0\n",
      "  jmespath           anaconda/noarch::jmespath-0.9.4-py_0\n",
      "  s3transfer         anaconda/osx-64::s3transfer-0.2.1-py37_0\n",
      "\n",
      "The following packages will be SUPERSEDED by a higher-priority channel:\n",
      "\n",
      "  ca-certificates                                 pkgs/main --> anaconda\n",
      "  certifi                                         pkgs/main --> anaconda\n",
      "  openssl                                         pkgs/main --> anaconda\n",
      "\n",
      "\n",
      "\n",
      "Downloading and Extracting Packages\n",
      "ca-certificates-2019 | 133 KB    | ##################################### | 100% \n",
      "openssl-1.1.1d       | 3.4 MB    | ##################################### | 100% \n",
      "botocore-1.13.19     | 3.3 MB    | ##################################### | 100% \n",
      "s3transfer-0.2.1     | 96 KB     | ##################################### | 100% \n",
      "certifi-2019.9.11    | 154 KB    | ##################################### | 100% \n",
      "jmespath-0.9.4       | 22 KB     | ##################################### | 100% \n",
      "boto3-1.10.19        | 91 KB     | ##################################### | 100% \n",
      "Preparing transaction: done\n",
      "Verifying transaction: - WARNING conda.core.path_actions:verify(963): Unable to create environments file. Path not writable.\n",
      "  environment location: /Users/home/.conda/environments.txt\n",
      "\n",
      "done\n",
      "Executing transaction: done\n",
      "\n",
      "Note: you may need to restart the kernel to use updated packages.\n"
     ]
    }
   ],
   "source": [
    "conda install -c anaconda boto3"
   ]
  },
  {
   "cell_type": "code",
   "execution_count": null,
   "metadata": {},
   "outputs": [],
   "source": [
    "#Restart the kernel\n",
    "import os\n",
    "os._exit(00)"
   ]
  },
  {
   "cell_type": "code",
   "execution_count": 74,
   "metadata": {},
   "outputs": [
    {
     "name": "stdout",
     "output_type": "stream",
     "text": [
      "prods_op_mogreps-uk_20140717_03_11_015.nc\n",
      "prods_op_mogreps-uk_20140717_03_11_018.nc\n",
      "prods_op_mogreps-uk_20140717_03_11_021.nc\n",
      "prods_op_mogreps-uk_20140717_03_11_024.nc\n",
      "prods_op_mogreps-uk_20140717_03_11_027.nc\n",
      "prods_op_mogreps-uk_20140717_03_11_030.nc\n",
      "prods_op_mogreps-uk_20140717_03_11_033.nc\n",
      "prods_op_mogreps-uk_20140717_03_11_036.nc\n",
      "prods_op_mogreps-uk_20140717_09_00_003.nc\n",
      "prods_op_mogreps-uk_20140717_09_00_006.nc\n",
      "prods_op_mogreps-uk_20140717_09_00_009.nc\n",
      "prods_op_mogreps-uk_20140717_09_00_012.nc\n",
      "prods_op_mogreps-uk_20140717_09_00_015.nc\n",
      "prods_op_mogreps-uk_20140717_09_00_018.nc\n",
      "prods_op_mogreps-uk_20140717_09_00_021.nc\n",
      "prods_op_mogreps-uk_20140717_09_00_024.nc\n",
      "prods_op_mogreps-uk_20140717_09_00_027.nc\n",
      "prods_op_mogreps-uk_20140717_09_00_030.nc\n",
      "prods_op_mogreps-uk_20140717_09_00_033.nc\n",
      "prods_op_mogreps-uk_20140717_09_00_036.nc\n",
      "prods_op_mogreps-uk_20140717_09_12_003.nc\n",
      "prods_op_mogreps-uk_20140717_09_12_006.nc\n",
      "prods_op_mogreps-uk_20150717_03_11_015.nc\n",
      "prods_op_mogreps-uk_20150717_03_11_018.nc\n",
      "prods_op_mogreps-uk_20150717_03_11_021.nc\n",
      "prods_op_mogreps-uk_20150717_03_11_024.nc\n",
      "prods_op_mogreps-uk_20150717_03_11_027.nc\n",
      "prods_op_mogreps-uk_20150717_03_11_030.nc\n",
      "prods_op_mogreps-uk_20150717_03_11_033.nc\n",
      "prods_op_mogreps-uk_20150717_03_11_036.nc\n",
      "prods_op_mogreps-uk_20150717_09_00_003.nc\n",
      "prods_op_mogreps-uk_20150717_09_00_006.nc\n",
      "prods_op_mogreps-uk_20150717_09_00_009.nc\n",
      "prods_op_mogreps-uk_20150717_09_00_012.nc\n",
      "prods_op_mogreps-uk_20150717_09_00_015.nc\n",
      "prods_op_mogreps-uk_20150717_09_00_018.nc\n",
      "prods_op_mogreps-uk_20150717_09_00_021.nc\n",
      "prods_op_mogreps-uk_20150717_09_00_024.nc\n",
      "prods_op_mogreps-uk_20150717_09_00_027.nc\n",
      "prods_op_mogreps-uk_20150717_09_00_030.nc\n",
      "prods_op_mogreps-uk_20150717_09_00_033.nc\n",
      "prods_op_mogreps-uk_20150717_09_00_036.nc\n",
      "prods_op_mogreps-uk_20150717_09_12_003.nc\n",
      "prods_op_mogreps-uk_20150717_09_12_006.nc\n",
      "prods_op_mogreps-uk_20160717_03_11_015.nc\n",
      "prods_op_mogreps-uk_20160717_03_11_018.nc\n",
      "prods_op_mogreps-uk_20160717_03_11_021.nc\n",
      "prods_op_mogreps-uk_20160717_03_11_024.nc\n",
      "prods_op_mogreps-uk_20160717_03_11_027.nc\n",
      "prods_op_mogreps-uk_20160717_03_11_030.nc\n",
      "prods_op_mogreps-uk_20160717_03_11_033.nc\n",
      "prods_op_mogreps-uk_20160717_03_11_036.nc\n",
      "prods_op_mogreps-uk_20160717_09_00_003.nc\n",
      "prods_op_mogreps-uk_20160717_09_00_006.nc\n",
      "prods_op_mogreps-uk_20160717_09_00_009.nc\n",
      "prods_op_mogreps-uk_20160717_09_00_012.nc\n",
      "prods_op_mogreps-uk_20160717_09_00_015.nc\n",
      "prods_op_mogreps-uk_20160717_09_00_018.nc\n",
      "prods_op_mogreps-uk_20160717_09_00_021.nc\n",
      "prods_op_mogreps-uk_20160717_09_00_024.nc\n",
      "prods_op_mogreps-uk_20160717_09_00_027.nc\n",
      "prods_op_mogreps-uk_20160717_09_00_030.nc\n",
      "prods_op_mogreps-uk_20160717_09_00_033.nc\n",
      "prods_op_mogreps-uk_20160717_09_00_036.nc\n",
      "prods_op_mogreps-uk_20160717_09_12_003.nc\n",
      "prods_op_mogreps-uk_20160717_09_12_006.nc\n"
     ]
    }
   ],
   "source": [
    "#List contents of an S3 bucket.\n",
    "import boto3\n",
    "from boto3 import client\n",
    "for key in client('s3').list_objects(Bucket='awsbigdatatakehome')['Contents']:\n",
    "    print(key['Key'])"
   ]
  },
  {
   "cell_type": "code",
   "execution_count": 78,
   "metadata": {},
   "outputs": [],
   "source": [
    "#Download an object from s3 bucket\n",
    "import urllib.request\n",
    "s3object = {\n",
    "    'bucket-region': 'eu-west-2', #Bucket region\n",
    "    'bucket': 'awsbigdatatakehome', #Bucket name\n",
    "    'key': 'prods_op_mogreps-uk_20160717_09_12_006.nc' #Object key\n",
    "}\n",
    "def download_data_object(s3object):\n",
    "    url = \"https://s3.\"+s3object['bucket-region']+\".amazonaws.com/\" + s3object['bucket'] + \"/\" + s3object['key']\n",
    "    urllib.request.urlretrieve(url, s3object['key'])\n",
    "download_data_object(s3object)"
   ]
  },
  {
   "cell_type": "code",
   "execution_count": 80,
   "metadata": {},
   "outputs": [
    {
     "name": "stdout",
     "output_type": "stream",
     "text": [
      "total 47360\r\n",
      "-rw-r--r--@ 1 Michael_MacBookPro  wheel   1.7M Nov 30 16:34 00302d8978797a3d1ab4595ca11d09d75f2dbf69.nc\r\n",
      "-rw-r--r--  1 Michael_MacBookPro  wheel    21M Nov 30 19:15 prods_op_mogreps-uk_20160717_09_12_006.nc\r\n"
     ]
    }
   ],
   "source": [
    "!ls -ltrh "
   ]
  },
  {
   "cell_type": "code",
   "execution_count": 85,
   "metadata": {},
   "outputs": [
    {
     "name": "stdout",
     "output_type": "stream",
     "text": [
      "0: unknown / (1)                       (time: 3; grid_latitude: 548; grid_longitude: 421)\n",
      "1: unknown_0 / (1)                     (-- : 3; grid_latitude: 548; grid_longitude: 421)\n",
      "2: unknown_1 / (1)                     (time: 3; grid_latitude: 548; grid_longitude: 421)\n",
      "3: stratiform_snowfall_rate / (kg m-2 s-1) (time: 36; grid_latitude: 548; grid_longitude: 421)\n",
      "4: wet_bulb_freezing_level_altitude / (m) (time: 3; grid_latitude: 548; grid_longitude: 421)\n",
      "5: cloud_area_fraction_assuming_maximum_random_overlap / (1) (time: 3; grid_latitude: 548; grid_longitude: 421)\n",
      "6: cloud_base_altitude_assuming_only_consider_cloud_area_fraction_greater_than_2p5_oktas / (kft) (time: 3; grid_latitude: 548; grid_longitude: 421)\n",
      "7: wet_bulb_potential_temperature / (K) (time: 3; pressure: 3; grid_latitude: 548; grid_longitude: 421)\n",
      "8: unknown_2 / (1)                     (time: 3; grid_latitude: 548; grid_longitude: 421)\n",
      "9: air_pressure_at_sea_level / (Pa)    (time: 3; grid_latitude: 548; grid_longitude: 421)\n",
      "10: air_temperature / (K)               (time: 3; grid_latitude: 548; grid_longitude: 421)\n",
      "11: air_temperature / (K)               (time: 3; grid_latitude: 548; grid_longitude: 421)\n",
      "12: air_temperature / (K)               (time: 3; grid_latitude: 548; grid_longitude: 421)\n",
      "13: air_temperature / (K)               (time: 3; pressure: 2; grid_latitude: 548; grid_longitude: 421)\n",
      "14: dew_point_temperature / (K)         (time: 3; grid_latitude: 548; grid_longitude: 421)\n",
      "15: fog_area_fraction / (1)             (time: 3; grid_latitude: 548; grid_longitude: 421)\n",
      "16: geopotential_height / (m)           (time: 3; pressure: 3; grid_latitude: 548; grid_longitude: 421)\n",
      "17: high_type_cloud_area_fraction / (1) (time: 3; grid_latitude: 548; grid_longitude: 421)\n",
      "18: low_type_cloud_area_fraction / (1)  (time: 3; grid_latitude: 548; grid_longitude: 421)\n",
      "19: medium_type_cloud_area_fraction / (1) (time: 3; grid_latitude: 548; grid_longitude: 421)\n",
      "20: relative_humidity / (%)             (time: 3; grid_latitude: 548; grid_longitude: 421)\n",
      "21: relative_humidity / (%)             (time: 3; pressure: 2; grid_latitude: 548; grid_longitude: 421)\n",
      "22: specific_humidity / (1)             (time: 3; grid_latitude: 548; grid_longitude: 421)\n",
      "23: stratiform_rainfall_amount / (kg m-2) (-- : 3; grid_latitude: 548; grid_longitude: 421)\n",
      "24: stratiform_rainfall_rate / (kg m-2 s-1) (time: 36; grid_latitude: 548; grid_longitude: 421)\n",
      "25: stratiform_snowfall_amount / (kg m-2) (-- : 3; grid_latitude: 548; grid_longitude: 421)\n",
      "26: surface_air_pressure / (Pa)         (time: 3; grid_latitude: 548; grid_longitude: 421)\n",
      "27: surface_downward_eastward_stress / (Pa) (time: 3; grid_latitude: 548; grid_longitude: 421)\n",
      "28: surface_downward_northward_stress / (Pa) (time: 3; grid_latitude: 549; grid_longitude: 421)\n",
      "29: surface_downwelling_longwave_flux / (W m-2) (time: 3; grid_latitude: 548; grid_longitude: 421)\n",
      "30: surface_downwelling_shortwave_flux_in_air / (W m-2) (time: 3; grid_latitude: 548; grid_longitude: 421)\n",
      "31: visibility_in_air / (m)             (time: 3; grid_latitude: 548; grid_longitude: 421)\n",
      "32: wind_speed_of_gust / (m s-1)        (time: 3; grid_latitude: 548; grid_longitude: 421)\n",
      "33: x_wind / (m s-1)                    (time: 3; grid_latitude: 548; grid_longitude: 421)\n",
      "34: x_wind / (m s-1)                    (time: 3; pressure: 2; grid_latitude: 549; grid_longitude: 421)\n",
      "35: x_wind / (m s-1)                    (time: 3; grid_latitude: 549; grid_longitude: 421)\n",
      "36: y_wind / (m s-1)                    (time: 3; pressure: 2; grid_latitude: 549; grid_longitude: 421)\n",
      "37: y_wind / (m s-1)                    (time: 3; grid_latitude: 549; grid_longitude: 421)\n",
      "38: y_wind / (m s-1)                    (time: 3; grid_latitude: 549; grid_longitude: 421)\n"
     ]
    }
   ],
   "source": [
    "import iris \n",
    "filename='prods_op_mogreps-uk_20160717_09_12_006.nc' \n",
    "#Load the list of cubes. See [3] in the links section for more details. \n",
    "listofcubes = iris.load(filename)\n",
    "print(listofcubes)"
   ]
  },
  {
   "cell_type": "code",
   "execution_count": null,
   "metadata": {},
   "outputs": [],
   "source": []
  }
 ],
 "metadata": {
  "kernelspec": {
   "display_name": "Python 3",
   "language": "python",
   "name": "python3"
  },
  "language_info": {
   "codemirror_mode": {
    "name": "ipython",
    "version": 3
   },
   "file_extension": ".py",
   "mimetype": "text/x-python",
   "name": "python",
   "nbconvert_exporter": "python",
   "pygments_lexer": "ipython3",
   "version": "3.7.4"
  }
 },
 "nbformat": 4,
 "nbformat_minor": 2
}
